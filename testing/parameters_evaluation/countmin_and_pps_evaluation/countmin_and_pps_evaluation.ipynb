{
 "cells": [
  {
   "cell_type": "markdown",
   "metadata": {},
   "source": [
    "### Imports"
   ]
  },
  {
   "cell_type": "code",
   "execution_count": 3,
   "metadata": {},
   "outputs": [],
   "source": [
    "import json\n",
    "import os\n",
    "import argparse\n",
    "from collections import Counter\n",
    "import csv"
   ]
  },
  {
   "cell_type": "markdown",
   "metadata": {},
   "source": [
    "### Read packets processed by the switch and the number of packets sent to the NIDS"
   ]
  },
  {
   "cell_type": "code",
   "execution_count": null,
   "metadata": {},
   "outputs": [],
   "source": [
    "def read_sw_info(filepath):\n",
    "    try:\n",
    "        with open(filepath) as file:\n",
    "            packets_processed = 0\n",
    "            packets_cloned = 0\n",
    "            get_cloned_data, get_processed_data = False, False\n",
    "            previous_line = \"\"\n",
    "            for line in file:\n",
    "                if \"Counter name:  MyEgress.cloned_to_ids\" in previous_line and \"Index (port):  index: 2\" in line:\n",
    "                    get_cloned_data = True\n",
    "\n",
    "                if \"packet_count\" in line and get_cloned_data == True:\n",
    "                    packets_cloned = int(line.split()[1])\n",
    "\n",
    "                if \"Counter name:  MyEgress.cloned_to_ids\" in previous_line and \"Index (port):  index: 3\" in line:\n",
    "                    get_processed_data = True\n",
    "\n",
    "                if \"packet_count\" in line and get_processed_data == True:\n",
    "                    packets_processed = int(line.split()[1])\n",
    "\n",
    "                get_cloned_data, get_processed_data = False, False\n",
    "                previous_line = line\n",
    "    except:\n",
    "        print(\"No experiment output file in this folder\")\n",
    "    return packets_cloned, packets_processed"
   ]
  },
  {
   "cell_type": "markdown",
   "metadata": {},
   "source": [
    "### Read amount of alerts"
   ]
  },
  {
   "cell_type": "code",
   "execution_count": null,
   "metadata": {},
   "outputs": [],
   "source": [
    "def read_amount_of_alerts(filepath):\n",
    "\n",
    "    with open(filepath) as file:\n",
    "        num_lines = len(file.readlines())\n",
    "        \n",
    "    return num_lines\n"
   ]
  },
  {
   "cell_type": "markdown",
   "metadata": {},
   "source": [
    "### Read number of processed packets by Snort"
   ]
  },
  {
   "cell_type": "code",
   "execution_count": null,
   "metadata": {},
   "outputs": [],
   "source": [
    "def read_Snort_info(filepath):\n",
    "    with open(filepath) as csvfile:\n",
    "        csv = csv.DictReader(csvfile)\n",
    "...     "
   ]
  },
  {
   "cell_type": "markdown",
   "metadata": {},
   "source": [
    "### Read the information of one Experiment"
   ]
  },
  {
   "cell_type": "code",
   "execution_count": null,
   "metadata": {},
   "outputs": [],
   "source": []
  },
  {
   "cell_type": "markdown",
   "metadata": {},
   "source": [
    "### Read the information of one scneario"
   ]
  },
  {
   "cell_type": "code",
   "execution_count": null,
   "metadata": {},
   "outputs": [],
   "source": []
  },
  {
   "cell_type": "markdown",
   "metadata": {},
   "source": [
    "### Read the folder containing all experiments of one pps"
   ]
  },
  {
   "cell_type": "code",
   "execution_count": null,
   "metadata": {},
   "outputs": [],
   "source": []
  },
  {
   "cell_type": "markdown",
   "metadata": {},
   "source": [
    "### Read the folder containing all experiments"
   ]
  },
  {
   "cell_type": "code",
   "execution_count": 5,
   "metadata": {},
   "outputs": [
    {
     "name": "stdout",
     "output_type": "stream",
     "text": [
      "Experiment\n",
      "15kpps\n",
      "old_results\n",
      "PCAP_timeline\n",
      "7.5kpps\n",
      "30kpps\n"
     ]
    }
   ],
   "source": [
    "results_folder = \"../../results\"\n",
    "\n",
    "for pps_folder in os.listdir(results_folder):\n",
    "    if pps_folder == \"Experiment\":\n",
    "        continue\n",
    "\n",
    "    \n",
    "    print(pps_folder)\n"
   ]
  }
 ],
 "metadata": {
  "kernelspec": {
   "display_name": "python39",
   "language": "python",
   "name": "python3"
  },
  "language_info": {
   "codemirror_mode": {
    "name": "ipython",
    "version": 3
   },
   "file_extension": ".py",
   "mimetype": "text/x-python",
   "name": "python",
   "nbconvert_exporter": "python",
   "pygments_lexer": "ipython3",
   "version": "3.9.16"
  }
 },
 "nbformat": 4,
 "nbformat_minor": 2
}
